{
 "cells": [
  {
   "cell_type": "markdown",
   "metadata": {},
   "source": [
    "# Ahora vamos a hacer K-means para elegir los anchor boxes\n",
    "¿Tiene sentido esto? en función a lo que vimos del dataset?"
   ]
  },
  {
   "cell_type": "code",
   "execution_count": 13,
   "metadata": {},
   "outputs": [
    {
     "name": "stdout",
     "output_type": "stream",
     "text": [
      "The autoreload extension is already loaded. To reload it, use:\n",
      "  %reload_ext autoreload\n"
     ]
    }
   ],
   "source": [
    "%load_ext autoreload\n",
    "%autoreload 2\n",
    "import pandas as pd\n",
    "from pathlib import Path\n",
    "from detection_helper import create_DF\n",
    "from matplotlib import pyplot as plt\n",
    "import numpy as np"
   ]
  },
  {
   "cell_type": "code",
   "execution_count": 14,
   "metadata": {},
   "outputs": [],
   "source": [
    "import pickle\n",
    "with open(\"data.pkl\",\"rb\") as f:\n",
    "    (df_train, df_val, train_files, val_files, classes_idx, cant_classes, classes) = pickle.load(f)"
   ]
  },
  {
   "cell_type": "code",
   "execution_count": 15,
   "metadata": {},
   "outputs": [],
   "source": [
    "from sklearn.cluster import KMeans"
   ]
  },
  {
   "cell_type": "code",
   "execution_count": 16,
   "metadata": {},
   "outputs": [],
   "source": [
    "clus = KMeans(n_clusters = 30)"
   ]
  },
  {
   "cell_type": "code",
   "execution_count": 17,
   "metadata": {},
   "outputs": [
    {
     "data": {
      "text/plain": [
       "KMeans(algorithm='auto', copy_x=True, init='k-means++', max_iter=300,\n",
       "       n_clusters=30, n_init=10, n_jobs=None, precompute_distances='auto',\n",
       "       random_state=None, tol=0.0001, verbose=0)"
      ]
     },
     "execution_count": 17,
     "metadata": {},
     "output_type": "execute_result"
    }
   ],
   "source": [
    "clus.fit(df_train[[\"delta_x\", \"delta_y\"]].values)"
   ]
  },
  {
   "cell_type": "code",
   "execution_count": 18,
   "metadata": {},
   "outputs": [
    {
     "data": {
      "text/plain": [
       "array([[  72.30131329,   70.64445983],\n",
       "       [ 438.32303192,  459.40077641],\n",
       "       [ 998.175097  ,  992.62504487],\n",
       "       [ 801.5907936 ,  660.06170586],\n",
       "       [ 229.14214987,  241.28273912],\n",
       "       [ 146.22022435,  142.28481441],\n",
       "       [ 423.82992738,  204.36214396],\n",
       "       [5992.5       , 3988.744     ],\n",
       "       [ 564.29736944,  541.38433669],\n",
       "       [ 523.69825745,  341.99643935],\n",
       "       [ 726.98105197,  439.46746278],\n",
       "       [ 270.14085314,  506.40513106],\n",
       "       [1004.70328686,  637.32568793],\n",
       "       [ 432.79096047,  882.44031527],\n",
       "       [ 199.75485627,  358.15658724],\n",
       "       [ 292.80420295,  165.21242733],\n",
       "       [  34.35368879,   33.82924046],\n",
       "       [ 962.09680082,  371.87329202],\n",
       "       [ 300.63939776,  285.04645469],\n",
       "       [ 391.68737728,  657.81956236],\n",
       "       [ 127.72369907,  221.38738752],\n",
       "       [ 998.80317452,  767.33720041],\n",
       "       [ 723.85117218,  971.96311506],\n",
       "       [ 680.06805427,  233.63759818],\n",
       "       [ 362.77078586,  362.63054693],\n",
       "       [ 120.32921383,   90.7442494 ],\n",
       "       [ 193.68231414,  182.37048512],\n",
       "       [ 631.55584031,  702.90723523],\n",
       "       [  88.12969774,  129.34379889],\n",
       "       [ 204.41123984,  105.02681118]])"
      ]
     },
     "execution_count": 18,
     "metadata": {},
     "output_type": "execute_result"
    }
   ],
   "source": [
    "clus.cluster_centers_"
   ]
  },
  {
   "cell_type": "code",
   "execution_count": 8,
   "metadata": {},
   "outputs": [],
   "source": [
    "indexes = np.logical_and((clus.cluster_centers_ < 512)[:,0], (clus.cluster_centers_ < 512)[:,1])"
   ]
  },
  {
   "cell_type": "code",
   "execution_count": 19,
   "metadata": {},
   "outputs": [],
   "source": [
    "anchor_boxes = clus.cluster_centers_[indexes,:]"
   ]
  },
  {
   "cell_type": "code",
   "execution_count": 20,
   "metadata": {},
   "outputs": [
    {
     "data": {
      "text/plain": [
       "array([[438.32303192, 459.40077641],\n",
       "       [801.5907936 , 660.06170586],\n",
       "       [146.22022435, 142.28481441],\n",
       "       [564.29736944, 541.38433669],\n",
       "       [523.69825745, 341.99643935],\n",
       "       [726.98105197, 439.46746278],\n",
       "       [270.14085314, 506.40513106],\n",
       "       [199.75485627, 358.15658724],\n",
       "       [391.68737728, 657.81956236],\n",
       "       [723.85117218, 971.96311506],\n",
       "       [680.06805427, 233.63759818],\n",
       "       [362.77078586, 362.63054693],\n",
       "       [120.32921383,  90.7442494 ],\n",
       "       [193.68231414, 182.37048512],\n",
       "       [ 88.12969774, 129.34379889],\n",
       "       [204.41123984, 105.02681118]])"
      ]
     },
     "execution_count": 20,
     "metadata": {},
     "output_type": "execute_result"
    }
   ],
   "source": [
    "anchor_boxes"
   ]
  },
  {
   "cell_type": "code",
   "execution_count": 21,
   "metadata": {},
   "outputs": [],
   "source": [
    "with open(\"anchor_boxes.pkl\", \"wb\") as f:\n",
    "    pickle.dump(anchor_boxes, f)"
   ]
  },
  {
   "cell_type": "code",
   "execution_count": 22,
   "metadata": {},
   "outputs": [
    {
     "data": {
      "text/plain": [
       "16"
      ]
     },
     "execution_count": 22,
     "metadata": {},
     "output_type": "execute_result"
    }
   ],
   "source": [
    "len(anchor_boxes)"
   ]
  },
  {
   "cell_type": "code",
   "execution_count": null,
   "metadata": {},
   "outputs": [],
   "source": []
  }
 ],
 "metadata": {
  "kernelspec": {
   "display_name": "Python [conda env:CV]",
   "language": "python",
   "name": "conda-env-CV-py"
  },
  "language_info": {
   "codemirror_mode": {
    "name": "ipython",
    "version": 3
   },
   "file_extension": ".py",
   "mimetype": "text/x-python",
   "name": "python",
   "nbconvert_exporter": "python",
   "pygments_lexer": "ipython3",
   "version": "3.7.7"
  }
 },
 "nbformat": 4,
 "nbformat_minor": 2
}
