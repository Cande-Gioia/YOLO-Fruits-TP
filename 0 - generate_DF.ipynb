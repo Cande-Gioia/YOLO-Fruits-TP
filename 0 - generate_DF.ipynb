{
 "cells": [
  {
   "cell_type": "code",
   "execution_count": 35,
   "metadata": {},
   "outputs": [],
   "source": [
    "import pandas as pd\n",
    "from pathlib import Path\n",
    "from matplotlib import pyplot as plt\n",
    "import numpy as np"
   ]
  },
  {
   "cell_type": "code",
   "execution_count": 39,
   "metadata": {},
   "outputs": [],
   "source": [
    "import pandas as pd\n",
    "from PIL import Image\n",
    "import xml.etree.ElementTree as ET\n",
    "\n",
    "def create_DF(files, images_dir):\n",
    "    \"\"\"\n",
    "    Convierte una lista de PosixPaths en un dataframe\n",
    "    \"\"\"\n",
    "    df = pd.DataFrame([])\n",
    "    for file in files:\n",
    "        tree = ET.parse(file)\n",
    "        root = tree.getroot()\n",
    "\n",
    "        image_dic = []\n",
    "\n",
    "        for obj in root.findall('object'):\n",
    "            label = obj.find('name').text       # pineapple\n",
    "            image = file.stem + \".png\"          # fruit0.png\n",
    "            bndbox = obj.find('bndbox')         \n",
    "            xmin = float(bndbox.find('xmin').text)      # 38\n",
    "            ymin = float(bndbox.find('ymin').text)     # 18\n",
    "            xmax = float(bndbox.find('xmax').text)     # 271)\n",
    "            ymax = float(bndbox.find('ymax').text)      # 227)\n",
    "\n",
    "            image_dic.append({\n",
    "                \"label\" : label,\n",
    "                \"left\" : xmin, \n",
    "                \"top\" : ymin, \n",
    "                \"right\" : xmax,\n",
    "                \"bottom\" : ymax\n",
    "            })\n",
    "        \n",
    "        aux_df = pd.DataFrame(image_dic)\n",
    "        \n",
    "        # try:\n",
    "        image_file = next(images_dir.glob(f\"**/{file.stem}*.png\"))\n",
    "        aux_df[\"height\"] = root.find('size').find('height').text\n",
    "        aux_df[\"width\"] = root.find('size').find('width').text\n",
    "        aux_df[\"image\"] = image_file\n",
    "        aux_df[\"image_name\"] = root.find('filename').text\n",
    "        df = pd.concat([df, aux_df])\n",
    "        # except:\n",
    "        #     print(file.stem)\n",
    "    print(df)\n",
    "    df[\"center_x\"] = (df[\"right\"] + df[\"left\"])/2\n",
    "    df[\"center_y\"] = (df[\"bottom\"] + df[\"top\"])/2\n",
    "    df[\"delta_x\"] = df[\"right\"] - df[\"left\"]\n",
    "    df[\"delta_y\"] = df[\"bottom\"] - df[\"top\"]\n",
    "\n",
    "    return df"
   ]
  },
  {
   "cell_type": "code",
   "execution_count": 40,
   "metadata": {},
   "outputs": [
    {
     "name": "stdout",
     "output_type": "stream",
     "text": [
      "[WindowsPath('dataset/annotations/fruit0.xml'), WindowsPath('dataset/annotations/fruit1.xml'), WindowsPath('dataset/annotations/fruit10.xml'), WindowsPath('dataset/annotations/fruit100.xml'), WindowsPath('dataset/annotations/fruit101.xml'), WindowsPath('dataset/annotations/fruit102.xml'), WindowsPath('dataset/annotations/fruit103.xml'), WindowsPath('dataset/annotations/fruit104.xml'), WindowsPath('dataset/annotations/fruit105.xml'), WindowsPath('dataset/annotations/fruit106.xml'), WindowsPath('dataset/annotations/fruit107.xml'), WindowsPath('dataset/annotations/fruit108.xml'), WindowsPath('dataset/annotations/fruit109.xml'), WindowsPath('dataset/annotations/fruit11.xml'), WindowsPath('dataset/annotations/fruit110.xml'), WindowsPath('dataset/annotations/fruit111.xml'), WindowsPath('dataset/annotations/fruit112.xml'), WindowsPath('dataset/annotations/fruit113.xml'), WindowsPath('dataset/annotations/fruit114.xml'), WindowsPath('dataset/annotations/fruit115.xml'), WindowsPath('dataset/annotations/fruit116.xml'), WindowsPath('dataset/annotations/fruit117.xml'), WindowsPath('dataset/annotations/fruit118.xml'), WindowsPath('dataset/annotations/fruit119.xml'), WindowsPath('dataset/annotations/fruit12.xml'), WindowsPath('dataset/annotations/fruit120.xml'), WindowsPath('dataset/annotations/fruit121.xml'), WindowsPath('dataset/annotations/fruit122.xml'), WindowsPath('dataset/annotations/fruit123.xml'), WindowsPath('dataset/annotations/fruit124.xml'), WindowsPath('dataset/annotations/fruit125.xml'), WindowsPath('dataset/annotations/fruit126.xml'), WindowsPath('dataset/annotations/fruit127.xml'), WindowsPath('dataset/annotations/fruit128.xml'), WindowsPath('dataset/annotations/fruit129.xml'), WindowsPath('dataset/annotations/fruit13.xml'), WindowsPath('dataset/annotations/fruit130.xml'), WindowsPath('dataset/annotations/fruit131.xml'), WindowsPath('dataset/annotations/fruit132.xml'), WindowsPath('dataset/annotations/fruit133.xml'), WindowsPath('dataset/annotations/fruit134.xml'), WindowsPath('dataset/annotations/fruit135.xml'), WindowsPath('dataset/annotations/fruit136.xml'), WindowsPath('dataset/annotations/fruit137.xml'), WindowsPath('dataset/annotations/fruit138.xml'), WindowsPath('dataset/annotations/fruit139.xml'), WindowsPath('dataset/annotations/fruit14.xml'), WindowsPath('dataset/annotations/fruit140.xml'), WindowsPath('dataset/annotations/fruit141.xml'), WindowsPath('dataset/annotations/fruit142.xml'), WindowsPath('dataset/annotations/fruit143.xml'), WindowsPath('dataset/annotations/fruit144.xml'), WindowsPath('dataset/annotations/fruit145.xml'), WindowsPath('dataset/annotations/fruit146.xml'), WindowsPath('dataset/annotations/fruit147.xml'), WindowsPath('dataset/annotations/fruit148.xml'), WindowsPath('dataset/annotations/fruit149.xml'), WindowsPath('dataset/annotations/fruit15.xml'), WindowsPath('dataset/annotations/fruit150.xml'), WindowsPath('dataset/annotations/fruit151.xml'), WindowsPath('dataset/annotations/fruit152.xml'), WindowsPath('dataset/annotations/fruit153.xml'), WindowsPath('dataset/annotations/fruit154.xml'), WindowsPath('dataset/annotations/fruit155.xml'), WindowsPath('dataset/annotations/fruit156.xml'), WindowsPath('dataset/annotations/fruit157.xml'), WindowsPath('dataset/annotations/fruit158.xml'), WindowsPath('dataset/annotations/fruit159.xml'), WindowsPath('dataset/annotations/fruit16.xml'), WindowsPath('dataset/annotations/fruit160.xml'), WindowsPath('dataset/annotations/fruit161.xml'), WindowsPath('dataset/annotations/fruit162.xml'), WindowsPath('dataset/annotations/fruit163.xml'), WindowsPath('dataset/annotations/fruit164.xml'), WindowsPath('dataset/annotations/fruit165.xml'), WindowsPath('dataset/annotations/fruit166.xml'), WindowsPath('dataset/annotations/fruit167.xml'), WindowsPath('dataset/annotations/fruit168.xml'), WindowsPath('dataset/annotations/fruit169.xml'), WindowsPath('dataset/annotations/fruit17.xml'), WindowsPath('dataset/annotations/fruit170.xml'), WindowsPath('dataset/annotations/fruit171.xml'), WindowsPath('dataset/annotations/fruit172.xml'), WindowsPath('dataset/annotations/fruit173.xml'), WindowsPath('dataset/annotations/fruit174.xml'), WindowsPath('dataset/annotations/fruit175.xml'), WindowsPath('dataset/annotations/fruit176.xml'), WindowsPath('dataset/annotations/fruit177.xml'), WindowsPath('dataset/annotations/fruit178.xml'), WindowsPath('dataset/annotations/fruit179.xml'), WindowsPath('dataset/annotations/fruit18.xml'), WindowsPath('dataset/annotations/fruit180.xml'), WindowsPath('dataset/annotations/fruit181.xml'), WindowsPath('dataset/annotations/fruit182.xml'), WindowsPath('dataset/annotations/fruit183.xml'), WindowsPath('dataset/annotations/fruit184.xml'), WindowsPath('dataset/annotations/fruit185.xml'), WindowsPath('dataset/annotations/fruit186.xml'), WindowsPath('dataset/annotations/fruit187.xml'), WindowsPath('dataset/annotations/fruit188.xml'), WindowsPath('dataset/annotations/fruit19.xml'), WindowsPath('dataset/annotations/fruit196.xml'), WindowsPath('dataset/annotations/fruit197.xml'), WindowsPath('dataset/annotations/fruit198.xml'), WindowsPath('dataset/annotations/fruit199.xml'), WindowsPath('dataset/annotations/fruit2.xml'), WindowsPath('dataset/annotations/fruit20.xml'), WindowsPath('dataset/annotations/fruit200.xml'), WindowsPath('dataset/annotations/fruit201.xml'), WindowsPath('dataset/annotations/fruit202.xml'), WindowsPath('dataset/annotations/fruit208.xml'), WindowsPath('dataset/annotations/fruit209.xml'), WindowsPath('dataset/annotations/fruit21.xml'), WindowsPath('dataset/annotations/fruit210.xml'), WindowsPath('dataset/annotations/fruit211.xml'), WindowsPath('dataset/annotations/fruit22.xml'), WindowsPath('dataset/annotations/fruit23.xml'), WindowsPath('dataset/annotations/fruit24.xml'), WindowsPath('dataset/annotations/fruit25.xml'), WindowsPath('dataset/annotations/fruit26.xml'), WindowsPath('dataset/annotations/fruit27.xml'), WindowsPath('dataset/annotations/fruit28.xml'), WindowsPath('dataset/annotations/fruit29.xml'), WindowsPath('dataset/annotations/fruit3.xml'), WindowsPath('dataset/annotations/fruit30.xml'), WindowsPath('dataset/annotations/fruit31.xml'), WindowsPath('dataset/annotations/fruit32.xml'), WindowsPath('dataset/annotations/fruit33.xml'), WindowsPath('dataset/annotations/fruit34.xml'), WindowsPath('dataset/annotations/fruit35.xml'), WindowsPath('dataset/annotations/fruit36.xml'), WindowsPath('dataset/annotations/fruit37.xml'), WindowsPath('dataset/annotations/fruit38.xml'), WindowsPath('dataset/annotations/fruit39.xml'), WindowsPath('dataset/annotations/fruit4.xml'), WindowsPath('dataset/annotations/fruit40.xml'), WindowsPath('dataset/annotations/fruit41.xml'), WindowsPath('dataset/annotations/fruit42.xml'), WindowsPath('dataset/annotations/fruit43.xml'), WindowsPath('dataset/annotations/fruit44.xml'), WindowsPath('dataset/annotations/fruit45.xml'), WindowsPath('dataset/annotations/fruit46.xml'), WindowsPath('dataset/annotations/fruit47.xml'), WindowsPath('dataset/annotations/fruit48.xml'), WindowsPath('dataset/annotations/fruit49.xml'), WindowsPath('dataset/annotations/fruit5.xml'), WindowsPath('dataset/annotations/fruit50.xml'), WindowsPath('dataset/annotations/fruit51.xml'), WindowsPath('dataset/annotations/fruit52.xml'), WindowsPath('dataset/annotations/fruit53.xml'), WindowsPath('dataset/annotations/fruit54.xml'), WindowsPath('dataset/annotations/fruit55.xml'), WindowsPath('dataset/annotations/fruit56.xml'), WindowsPath('dataset/annotations/fruit57.xml'), WindowsPath('dataset/annotations/fruit58.xml'), WindowsPath('dataset/annotations/fruit59.xml'), WindowsPath('dataset/annotations/fruit6.xml'), WindowsPath('dataset/annotations/fruit60.xml'), WindowsPath('dataset/annotations/fruit61.xml'), WindowsPath('dataset/annotations/fruit62.xml'), WindowsPath('dataset/annotations/fruit63.xml'), WindowsPath('dataset/annotations/fruit64.xml'), WindowsPath('dataset/annotations/fruit65.xml'), WindowsPath('dataset/annotations/fruit66.xml'), WindowsPath('dataset/annotations/fruit67.xml'), WindowsPath('dataset/annotations/fruit68.xml'), WindowsPath('dataset/annotations/fruit69.xml'), WindowsPath('dataset/annotations/fruit7.xml'), WindowsPath('dataset/annotations/fruit70.xml'), WindowsPath('dataset/annotations/fruit71.xml'), WindowsPath('dataset/annotations/fruit72.xml'), WindowsPath('dataset/annotations/fruit73.xml'), WindowsPath('dataset/annotations/fruit74.xml'), WindowsPath('dataset/annotations/fruit75.xml'), WindowsPath('dataset/annotations/fruit76.xml'), WindowsPath('dataset/annotations/fruit77.xml'), WindowsPath('dataset/annotations/fruit78.xml'), WindowsPath('dataset/annotations/fruit79.xml'), WindowsPath('dataset/annotations/fruit8.xml'), WindowsPath('dataset/annotations/fruit80.xml'), WindowsPath('dataset/annotations/fruit81.xml'), WindowsPath('dataset/annotations/fruit82.xml'), WindowsPath('dataset/annotations/fruit83.xml'), WindowsPath('dataset/annotations/fruit84.xml'), WindowsPath('dataset/annotations/fruit85.xml'), WindowsPath('dataset/annotations/fruit86.xml'), WindowsPath('dataset/annotations/fruit87.xml'), WindowsPath('dataset/annotations/fruit88.xml'), WindowsPath('dataset/annotations/fruit89.xml'), WindowsPath('dataset/annotations/fruit9.xml'), WindowsPath('dataset/annotations/fruit90.xml'), WindowsPath('dataset/annotations/fruit91.xml'), WindowsPath('dataset/annotations/fruit92.xml'), WindowsPath('dataset/annotations/fruit93.xml'), WindowsPath('dataset/annotations/fruit94.xml'), WindowsPath('dataset/annotations/fruit95.xml'), WindowsPath('dataset/annotations/fruit96.xml'), WindowsPath('dataset/annotations/fruit97.xml'), WindowsPath('dataset/annotations/fruit98.xml'), WindowsPath('dataset/annotations/fruit99.xml')]\n"
     ]
    }
   ],
   "source": [
    "train_files = list(Path(\"dataset/annotations/\").glob(\"**/*xml\"))\n",
    "# val_files = list(Path(\"dataset/annotations/\").glob(\"**/*xml\"))\n",
    "\n",
    "print(train_files)"
   ]
  },
  {
   "cell_type": "code",
   "execution_count": 41,
   "metadata": {},
   "outputs": [
    {
     "name": "stdout",
     "output_type": "stream",
     "text": [
      "           label   left    top  right  bottom height width  \\\n",
      "0      pineapple   38.0   82.0  271.0   227.0    300   400   \n",
      "1    snake fruit  244.0  174.0  280.0   207.0    300   400   \n",
      "2   dragon fruit  254.0  228.0  351.0   300.0    300   400   \n",
      "0      pineapple   38.0   87.0  275.0   241.0    300   400   \n",
      "1    snake fruit  240.0  185.0  279.0   220.0    300   400   \n",
      "..           ...    ...    ...    ...     ...    ...   ...   \n",
      "1    snake fruit  144.0  181.0  162.0   204.0    300   400   \n",
      "2         banana  204.0  217.0  253.0   262.0    300   400   \n",
      "0      pineapple  155.0   80.0  261.0   175.0    300   400   \n",
      "1    snake fruit  143.0  184.0  161.0   208.0    300   400   \n",
      "2         banana  203.0  222.0  257.0   269.0    300   400   \n",
      "\n",
      "                         image   image_name  \n",
      "0    dataset\\images\\fruit0.png   fruit0.png  \n",
      "1    dataset\\images\\fruit0.png   fruit0.png  \n",
      "2    dataset\\images\\fruit0.png   fruit0.png  \n",
      "0    dataset\\images\\fruit1.png   fruit1.png  \n",
      "1    dataset\\images\\fruit1.png   fruit1.png  \n",
      "..                         ...          ...  \n",
      "1   dataset\\images\\fruit98.png  fruit98.png  \n",
      "2   dataset\\images\\fruit98.png  fruit98.png  \n",
      "0   dataset\\images\\fruit99.png  fruit99.png  \n",
      "1   dataset\\images\\fruit99.png  fruit99.png  \n",
      "2   dataset\\images\\fruit99.png  fruit99.png  \n",
      "\n",
      "[594 rows x 9 columns]\n"
     ]
    }
   ],
   "source": [
    "df_train = create_DF(train_files, Path(\"dataset/images/\"))"
   ]
  },
  {
   "cell_type": "code",
   "execution_count": 1,
   "metadata": {},
   "outputs": [],
   "source": [
    "# df_val = create_DF(val_files,Path(\"Dataset/validation/Apple_Grape_Cantaloupe_Watermelon_Pomegranate_Pineapple_Peach_Mango_Banana_Lemon_Tomato_Strawberry_Pear/\"))"
   ]
  },
  {
   "cell_type": "code",
   "execution_count": 5,
   "metadata": {},
   "outputs": [],
   "source": [
    "df_train.head()"
   ]
  },
  {
   "cell_type": "code",
   "execution_count": 6,
   "metadata": {},
   "outputs": [],
   "source": [
    "df_val.head()"
   ]
  },
  {
   "cell_type": "code",
   "execution_count": 7,
   "metadata": {},
   "outputs": [],
   "source": [
    "classes = df_train[\"label\"].unique()\n",
    "classes"
   ]
  },
  {
   "cell_type": "code",
   "execution_count": 11,
   "metadata": {},
   "outputs": [],
   "source": [
    "classes_idx = {clase:idx for idx,clase in enumerate(classes)}"
   ]
  },
  {
   "cell_type": "code",
   "execution_count": 13,
   "metadata": {},
   "outputs": [],
   "source": [
    "cant_classes = len(classes)\n",
    "cant_classes"
   ]
  },
  {
   "cell_type": "code",
   "execution_count": 3,
   "metadata": {},
   "outputs": [
    {
     "ename": "NameError",
     "evalue": "name 'Path' is not defined",
     "output_type": "error",
     "traceback": [
      "\u001b[1;31m---------------------------------------------------------------------------\u001b[0m",
      "\u001b[1;31mNameError\u001b[0m                                 Traceback (most recent call last)",
      "Cell \u001b[1;32mIn[3], line 1\u001b[0m\n\u001b[1;32m----> 1\u001b[0m train_files \u001b[38;5;241m=\u001b[39m \u001b[38;5;28mlist\u001b[39m(\u001b[43mPath\u001b[49m(\u001b[38;5;124m\"\u001b[39m\u001b[38;5;124mdataset/annotations/\u001b[39m\u001b[38;5;124m\"\u001b[39m)\u001b[38;5;241m.\u001b[39mglob(\u001b[38;5;124m\"\u001b[39m\u001b[38;5;124m**/*xml\u001b[39m\u001b[38;5;124m\"\u001b[39m))\n\u001b[0;32m      2\u001b[0m \u001b[38;5;66;03m# val_files = list(Path(\"dataset/annotations/\").glob(\"**/*xml\"))\u001b[39;00m\n\u001b[0;32m      4\u001b[0m \u001b[38;5;28mprint\u001b[39m(train_files)\n",
      "\u001b[1;31mNameError\u001b[0m: name 'Path' is not defined"
     ]
    }
   ],
   "source": [
    "train_files = list(Path(\"dataset/annotations/\").glob(\"**/*xml\"))\n",
    "# val_files = list(Path(\"dataset/annotations/\").glob(\"**/*xml\"))\n",
    "\n",
    "print(train_files)"
   ]
  },
  {
   "cell_type": "code",
   "execution_count": 4,
   "metadata": {},
   "outputs": [],
   "source": [
    "# df_val = create_DF(val_files,Path(\"Dataset/validation/Apple_Grape_Cantaloupe_Watermelon_Pomegranate_Pineapple_Peach_Mango_Banana_Lemon_Tomato_Strawberry_Pear/\"))"
   ]
  },
  {
   "cell_type": "code",
   "execution_count": 6,
   "metadata": {},
   "outputs": [
    {
     "data": {
      "text/html": [
       "<div>\n",
       "<style scoped>\n",
       "    .dataframe tbody tr th:only-of-type {\n",
       "        vertical-align: middle;\n",
       "    }\n",
       "\n",
       "    .dataframe tbody tr th {\n",
       "        vertical-align: top;\n",
       "    }\n",
       "\n",
       "    .dataframe thead th {\n",
       "        text-align: right;\n",
       "    }\n",
       "</style>\n",
       "<table border=\"1\" class=\"dataframe\">\n",
       "  <thead>\n",
       "    <tr style=\"text-align: right;\">\n",
       "      <th></th>\n",
       "      <th>label</th>\n",
       "      <th>left</th>\n",
       "      <th>top</th>\n",
       "      <th>right</th>\n",
       "      <th>bottom</th>\n",
       "      <th>height</th>\n",
       "      <th>width</th>\n",
       "      <th>image</th>\n",
       "      <th>image_name</th>\n",
       "      <th>center_x</th>\n",
       "      <th>center_y</th>\n",
       "      <th>delta_x</th>\n",
       "      <th>delta_y</th>\n",
       "    </tr>\n",
       "  </thead>\n",
       "  <tbody>\n",
       "    <tr>\n",
       "      <th>0</th>\n",
       "      <td>Tomato</td>\n",
       "      <td>72.387584</td>\n",
       "      <td>119.736162</td>\n",
       "      <td>793.486336</td>\n",
       "      <td>619.030503</td>\n",
       "      <td>1024</td>\n",
       "      <td>819</td>\n",
       "      <td>Dataset/validation/Apple_Grape_Cantaloupe_Wate...</td>\n",
       "      <td>604835415b761f30</td>\n",
       "      <td>432.936960</td>\n",
       "      <td>369.383333</td>\n",
       "      <td>721.098752</td>\n",
       "      <td>499.294341</td>\n",
       "    </tr>\n",
       "    <tr>\n",
       "      <th>1</th>\n",
       "      <td>Lemon</td>\n",
       "      <td>89.567232</td>\n",
       "      <td>152.054784</td>\n",
       "      <td>441.594880</td>\n",
       "      <td>461.195520</td>\n",
       "      <td>1024</td>\n",
       "      <td>768</td>\n",
       "      <td>Dataset/validation/Apple_Grape_Cantaloupe_Wate...</td>\n",
       "      <td>b39532c4a3bd5d83</td>\n",
       "      <td>265.581056</td>\n",
       "      <td>306.625152</td>\n",
       "      <td>352.027648</td>\n",
       "      <td>309.140736</td>\n",
       "    </tr>\n",
       "    <tr>\n",
       "      <th>2</th>\n",
       "      <td>Strawberry</td>\n",
       "      <td>0.000000</td>\n",
       "      <td>0.053248</td>\n",
       "      <td>1023.358976</td>\n",
       "      <td>1024.000000</td>\n",
       "      <td>1024</td>\n",
       "      <td>1024</td>\n",
       "      <td>Dataset/validation/Apple_Grape_Cantaloupe_Wate...</td>\n",
       "      <td>e0be14f0681f4b39</td>\n",
       "      <td>511.679488</td>\n",
       "      <td>512.026624</td>\n",
       "      <td>1023.358976</td>\n",
       "      <td>1023.946752</td>\n",
       "    </tr>\n",
       "    <tr>\n",
       "      <th>3</th>\n",
       "      <td>Lemon</td>\n",
       "      <td>236.441600</td>\n",
       "      <td>90.215200</td>\n",
       "      <td>905.010176</td>\n",
       "      <td>573.973625</td>\n",
       "      <td>1024</td>\n",
       "      <td>575</td>\n",
       "      <td>Dataset/validation/Apple_Grape_Cantaloupe_Wate...</td>\n",
       "      <td>730020d358ea3d82</td>\n",
       "      <td>570.725888</td>\n",
       "      <td>332.094412</td>\n",
       "      <td>668.568576</td>\n",
       "      <td>483.758425</td>\n",
       "    </tr>\n",
       "    <tr>\n",
       "      <th>4</th>\n",
       "      <td>Lemon</td>\n",
       "      <td>320.348160</td>\n",
       "      <td>30.697525</td>\n",
       "      <td>724.350976</td>\n",
       "      <td>119.152075</td>\n",
       "      <td>1024</td>\n",
       "      <td>575</td>\n",
       "      <td>Dataset/validation/Apple_Grape_Cantaloupe_Wate...</td>\n",
       "      <td>730020d358ea3d82</td>\n",
       "      <td>522.349568</td>\n",
       "      <td>74.924800</td>\n",
       "      <td>404.002816</td>\n",
       "      <td>88.454550</td>\n",
       "    </tr>\n",
       "  </tbody>\n",
       "</table>\n",
       "</div>"
      ],
      "text/plain": [
       "        label        left         top        right       bottom  height  \\\n",
       "0      Tomato   72.387584  119.736162   793.486336   619.030503    1024   \n",
       "1       Lemon   89.567232  152.054784   441.594880   461.195520    1024   \n",
       "2  Strawberry    0.000000    0.053248  1023.358976  1024.000000    1024   \n",
       "3       Lemon  236.441600   90.215200   905.010176   573.973625    1024   \n",
       "4       Lemon  320.348160   30.697525   724.350976   119.152075    1024   \n",
       "\n",
       "   width                                              image        image_name  \\\n",
       "0    819  Dataset/validation/Apple_Grape_Cantaloupe_Wate...  604835415b761f30   \n",
       "1    768  Dataset/validation/Apple_Grape_Cantaloupe_Wate...  b39532c4a3bd5d83   \n",
       "2   1024  Dataset/validation/Apple_Grape_Cantaloupe_Wate...  e0be14f0681f4b39   \n",
       "3    575  Dataset/validation/Apple_Grape_Cantaloupe_Wate...  730020d358ea3d82   \n",
       "4    575  Dataset/validation/Apple_Grape_Cantaloupe_Wate...  730020d358ea3d82   \n",
       "\n",
       "     center_x    center_y      delta_x      delta_y  \n",
       "0  432.936960  369.383333   721.098752   499.294341  \n",
       "1  265.581056  306.625152   352.027648   309.140736  \n",
       "2  511.679488  512.026624  1023.358976  1023.946752  \n",
       "3  570.725888  332.094412   668.568576   483.758425  \n",
       "4  522.349568   74.924800   404.002816    88.454550  "
      ]
     },
     "execution_count": 6,
     "metadata": {},
     "output_type": "execute_result"
    }
   ],
   "source": [
    "df_val.head()"
   ]
  },
  {
   "cell_type": "code",
   "execution_count": 11,
   "metadata": {},
   "outputs": [],
   "source": [
    "classes_idx = {clase:idx for idx,clase in enumerate(classes)}"
   ]
  },
  {
   "cell_type": "code",
   "execution_count": 14,
   "metadata": {},
   "outputs": [],
   "source": [
    "import pickle\n",
    "with open(\"data.pkl\",\"wb\") as f:\n",
    "    pickle.dump((df_train, df_val, train_files, val_files, classes_idx, cant_classes, classes),f)"
   ]
  }
 ],
 "metadata": {
  "kernelspec": {
   "display_name": "Python 3",
   "language": "python",
   "name": "python3"
  },
  "language_info": {
   "codemirror_mode": {
    "name": "ipython",
    "version": 3
   },
   "file_extension": ".py",
   "mimetype": "text/x-python",
   "name": "python",
   "nbconvert_exporter": "python",
   "pygments_lexer": "ipython3",
   "version": "3.11.7"
  }
 },
 "nbformat": 4,
 "nbformat_minor": 2
}
