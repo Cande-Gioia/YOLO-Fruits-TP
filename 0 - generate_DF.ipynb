{
 "cells": [
  {
   "cell_type": "code",
   "execution_count": 1,
   "metadata": {},
   "outputs": [],
   "source": [
    "%load_ext autoreload\n",
    "%autoreload 2\n",
    "import pandas as pd\n",
    "from pathlib import Path\n",
    "from detection_helper import create_DF\n",
    "from matplotlib import pyplot as plt\n",
    "import numpy as np"
   ]
  },
  {
   "cell_type": "code",
   "execution_count": 2,
   "metadata": {},
   "outputs": [],
   "source": [
    "train_files = list(Path(\"Dataset/train/\").glob(\"**/*txt\"))\n",
    "val_files = list(Path(\"Dataset/validation/\").glob(\"**/*txt\"))"
   ]
  },
  {
   "cell_type": "code",
   "execution_count": 3,
   "metadata": {},
   "outputs": [],
   "source": [
    "df_train = create_DF(train_files,Path(\"Dataset/train/Apple_Grape_Cantaloupe_Watermelon_Pomegranate_Pineapple_Peach_Mango_Banana_Lemon_Tomato_Strawberry_Pear/\"))"
   ]
  },
  {
   "cell_type": "code",
   "execution_count": 4,
   "metadata": {},
   "outputs": [],
   "source": [
    "df_val = create_DF(val_files,Path(\"Dataset/validation/Apple_Grape_Cantaloupe_Watermelon_Pomegranate_Pineapple_Peach_Mango_Banana_Lemon_Tomato_Strawberry_Pear/\"))"
   ]
  },
  {
   "cell_type": "code",
   "execution_count": 5,
   "metadata": {},
   "outputs": [
    {
     "data": {
      "text/html": [
       "<div>\n",
       "<style scoped>\n",
       "    .dataframe tbody tr th:only-of-type {\n",
       "        vertical-align: middle;\n",
       "    }\n",
       "\n",
       "    .dataframe tbody tr th {\n",
       "        vertical-align: top;\n",
       "    }\n",
       "\n",
       "    .dataframe thead th {\n",
       "        text-align: right;\n",
       "    }\n",
       "</style>\n",
       "<table border=\"1\" class=\"dataframe\">\n",
       "  <thead>\n",
       "    <tr style=\"text-align: right;\">\n",
       "      <th></th>\n",
       "      <th>label</th>\n",
       "      <th>left</th>\n",
       "      <th>top</th>\n",
       "      <th>right</th>\n",
       "      <th>bottom</th>\n",
       "      <th>height</th>\n",
       "      <th>width</th>\n",
       "      <th>image</th>\n",
       "      <th>image_name</th>\n",
       "      <th>center_x</th>\n",
       "      <th>center_y</th>\n",
       "      <th>delta_x</th>\n",
       "      <th>delta_y</th>\n",
       "    </tr>\n",
       "  </thead>\n",
       "  <tbody>\n",
       "    <tr>\n",
       "      <th>0</th>\n",
       "      <td>Apple</td>\n",
       "      <td>236.16</td>\n",
       "      <td>0.000000</td>\n",
       "      <td>625.92</td>\n",
       "      <td>342.140654</td>\n",
       "      <td>1024</td>\n",
       "      <td>683</td>\n",
       "      <td>Dataset/train/Apple_Grape_Cantaloupe_Watermelo...</td>\n",
       "      <td>837bf3be7055dc46</td>\n",
       "      <td>431.04</td>\n",
       "      <td>171.070327</td>\n",
       "      <td>389.76</td>\n",
       "      <td>342.140654</td>\n",
       "    </tr>\n",
       "    <tr>\n",
       "      <th>1</th>\n",
       "      <td>Apple</td>\n",
       "      <td>318.72</td>\n",
       "      <td>44.209224</td>\n",
       "      <td>466.56</td>\n",
       "      <td>246.674329</td>\n",
       "      <td>1024</td>\n",
       "      <td>683</td>\n",
       "      <td>Dataset/train/Apple_Grape_Cantaloupe_Watermelo...</td>\n",
       "      <td>837bf3be7055dc46</td>\n",
       "      <td>392.64</td>\n",
       "      <td>145.441777</td>\n",
       "      <td>147.84</td>\n",
       "      <td>202.465105</td>\n",
       "    </tr>\n",
       "    <tr>\n",
       "      <th>2</th>\n",
       "      <td>Grape</td>\n",
       "      <td>285.44</td>\n",
       "      <td>390.194485</td>\n",
       "      <td>469.12</td>\n",
       "      <td>565.749390</td>\n",
       "      <td>1024</td>\n",
       "      <td>683</td>\n",
       "      <td>Dataset/train/Apple_Grape_Cantaloupe_Watermelo...</td>\n",
       "      <td>116b98c8f1a2538c</td>\n",
       "      <td>377.28</td>\n",
       "      <td>477.971938</td>\n",
       "      <td>183.68</td>\n",
       "      <td>175.554905</td>\n",
       "    </tr>\n",
       "    <tr>\n",
       "      <th>3</th>\n",
       "      <td>Strawberry</td>\n",
       "      <td>321.28</td>\n",
       "      <td>484.231821</td>\n",
       "      <td>493.44</td>\n",
       "      <td>654.609170</td>\n",
       "      <td>1024</td>\n",
       "      <td>841</td>\n",
       "      <td>Dataset/train/Apple_Grape_Cantaloupe_Watermelo...</td>\n",
       "      <td>b1e2809b606fb594</td>\n",
       "      <td>407.36</td>\n",
       "      <td>569.420496</td>\n",
       "      <td>172.16</td>\n",
       "      <td>170.377349</td>\n",
       "    </tr>\n",
       "    <tr>\n",
       "      <th>4</th>\n",
       "      <td>Strawberry</td>\n",
       "      <td>111.36</td>\n",
       "      <td>332.428798</td>\n",
       "      <td>187.52</td>\n",
       "      <td>450.924857</td>\n",
       "      <td>1024</td>\n",
       "      <td>841</td>\n",
       "      <td>Dataset/train/Apple_Grape_Cantaloupe_Watermelo...</td>\n",
       "      <td>b1e2809b606fb594</td>\n",
       "      <td>149.44</td>\n",
       "      <td>391.676828</td>\n",
       "      <td>76.16</td>\n",
       "      <td>118.496059</td>\n",
       "    </tr>\n",
       "  </tbody>\n",
       "</table>\n",
       "</div>"
      ],
      "text/plain": [
       "        label    left         top   right      bottom  height  width  \\\n",
       "0       Apple  236.16    0.000000  625.92  342.140654    1024    683   \n",
       "1       Apple  318.72   44.209224  466.56  246.674329    1024    683   \n",
       "2       Grape  285.44  390.194485  469.12  565.749390    1024    683   \n",
       "3  Strawberry  321.28  484.231821  493.44  654.609170    1024    841   \n",
       "4  Strawberry  111.36  332.428798  187.52  450.924857    1024    841   \n",
       "\n",
       "                                               image        image_name  \\\n",
       "0  Dataset/train/Apple_Grape_Cantaloupe_Watermelo...  837bf3be7055dc46   \n",
       "1  Dataset/train/Apple_Grape_Cantaloupe_Watermelo...  837bf3be7055dc46   \n",
       "2  Dataset/train/Apple_Grape_Cantaloupe_Watermelo...  116b98c8f1a2538c   \n",
       "3  Dataset/train/Apple_Grape_Cantaloupe_Watermelo...  b1e2809b606fb594   \n",
       "4  Dataset/train/Apple_Grape_Cantaloupe_Watermelo...  b1e2809b606fb594   \n",
       "\n",
       "   center_x    center_y  delta_x     delta_y  \n",
       "0    431.04  171.070327   389.76  342.140654  \n",
       "1    392.64  145.441777   147.84  202.465105  \n",
       "2    377.28  477.971938   183.68  175.554905  \n",
       "3    407.36  569.420496   172.16  170.377349  \n",
       "4    149.44  391.676828    76.16  118.496059  "
      ]
     },
     "execution_count": 5,
     "metadata": {},
     "output_type": "execute_result"
    }
   ],
   "source": [
    "df_train.head()"
   ]
  },
  {
   "cell_type": "code",
   "execution_count": 6,
   "metadata": {},
   "outputs": [
    {
     "data": {
      "text/html": [
       "<div>\n",
       "<style scoped>\n",
       "    .dataframe tbody tr th:only-of-type {\n",
       "        vertical-align: middle;\n",
       "    }\n",
       "\n",
       "    .dataframe tbody tr th {\n",
       "        vertical-align: top;\n",
       "    }\n",
       "\n",
       "    .dataframe thead th {\n",
       "        text-align: right;\n",
       "    }\n",
       "</style>\n",
       "<table border=\"1\" class=\"dataframe\">\n",
       "  <thead>\n",
       "    <tr style=\"text-align: right;\">\n",
       "      <th></th>\n",
       "      <th>label</th>\n",
       "      <th>left</th>\n",
       "      <th>top</th>\n",
       "      <th>right</th>\n",
       "      <th>bottom</th>\n",
       "      <th>height</th>\n",
       "      <th>width</th>\n",
       "      <th>image</th>\n",
       "      <th>image_name</th>\n",
       "      <th>center_x</th>\n",
       "      <th>center_y</th>\n",
       "      <th>delta_x</th>\n",
       "      <th>delta_y</th>\n",
       "    </tr>\n",
       "  </thead>\n",
       "  <tbody>\n",
       "    <tr>\n",
       "      <th>0</th>\n",
       "      <td>Tomato</td>\n",
       "      <td>72.387584</td>\n",
       "      <td>119.736162</td>\n",
       "      <td>793.486336</td>\n",
       "      <td>619.030503</td>\n",
       "      <td>1024</td>\n",
       "      <td>819</td>\n",
       "      <td>Dataset/validation/Apple_Grape_Cantaloupe_Wate...</td>\n",
       "      <td>604835415b761f30</td>\n",
       "      <td>432.936960</td>\n",
       "      <td>369.383333</td>\n",
       "      <td>721.098752</td>\n",
       "      <td>499.294341</td>\n",
       "    </tr>\n",
       "    <tr>\n",
       "      <th>1</th>\n",
       "      <td>Lemon</td>\n",
       "      <td>89.567232</td>\n",
       "      <td>152.054784</td>\n",
       "      <td>441.594880</td>\n",
       "      <td>461.195520</td>\n",
       "      <td>1024</td>\n",
       "      <td>768</td>\n",
       "      <td>Dataset/validation/Apple_Grape_Cantaloupe_Wate...</td>\n",
       "      <td>b39532c4a3bd5d83</td>\n",
       "      <td>265.581056</td>\n",
       "      <td>306.625152</td>\n",
       "      <td>352.027648</td>\n",
       "      <td>309.140736</td>\n",
       "    </tr>\n",
       "    <tr>\n",
       "      <th>2</th>\n",
       "      <td>Strawberry</td>\n",
       "      <td>0.000000</td>\n",
       "      <td>0.053248</td>\n",
       "      <td>1023.358976</td>\n",
       "      <td>1024.000000</td>\n",
       "      <td>1024</td>\n",
       "      <td>1024</td>\n",
       "      <td>Dataset/validation/Apple_Grape_Cantaloupe_Wate...</td>\n",
       "      <td>e0be14f0681f4b39</td>\n",
       "      <td>511.679488</td>\n",
       "      <td>512.026624</td>\n",
       "      <td>1023.358976</td>\n",
       "      <td>1023.946752</td>\n",
       "    </tr>\n",
       "    <tr>\n",
       "      <th>3</th>\n",
       "      <td>Lemon</td>\n",
       "      <td>236.441600</td>\n",
       "      <td>90.215200</td>\n",
       "      <td>905.010176</td>\n",
       "      <td>573.973625</td>\n",
       "      <td>1024</td>\n",
       "      <td>575</td>\n",
       "      <td>Dataset/validation/Apple_Grape_Cantaloupe_Wate...</td>\n",
       "      <td>730020d358ea3d82</td>\n",
       "      <td>570.725888</td>\n",
       "      <td>332.094412</td>\n",
       "      <td>668.568576</td>\n",
       "      <td>483.758425</td>\n",
       "    </tr>\n",
       "    <tr>\n",
       "      <th>4</th>\n",
       "      <td>Lemon</td>\n",
       "      <td>320.348160</td>\n",
       "      <td>30.697525</td>\n",
       "      <td>724.350976</td>\n",
       "      <td>119.152075</td>\n",
       "      <td>1024</td>\n",
       "      <td>575</td>\n",
       "      <td>Dataset/validation/Apple_Grape_Cantaloupe_Wate...</td>\n",
       "      <td>730020d358ea3d82</td>\n",
       "      <td>522.349568</td>\n",
       "      <td>74.924800</td>\n",
       "      <td>404.002816</td>\n",
       "      <td>88.454550</td>\n",
       "    </tr>\n",
       "  </tbody>\n",
       "</table>\n",
       "</div>"
      ],
      "text/plain": [
       "        label        left         top        right       bottom  height  \\\n",
       "0      Tomato   72.387584  119.736162   793.486336   619.030503    1024   \n",
       "1       Lemon   89.567232  152.054784   441.594880   461.195520    1024   \n",
       "2  Strawberry    0.000000    0.053248  1023.358976  1024.000000    1024   \n",
       "3       Lemon  236.441600   90.215200   905.010176   573.973625    1024   \n",
       "4       Lemon  320.348160   30.697525   724.350976   119.152075    1024   \n",
       "\n",
       "   width                                              image        image_name  \\\n",
       "0    819  Dataset/validation/Apple_Grape_Cantaloupe_Wate...  604835415b761f30   \n",
       "1    768  Dataset/validation/Apple_Grape_Cantaloupe_Wate...  b39532c4a3bd5d83   \n",
       "2   1024  Dataset/validation/Apple_Grape_Cantaloupe_Wate...  e0be14f0681f4b39   \n",
       "3    575  Dataset/validation/Apple_Grape_Cantaloupe_Wate...  730020d358ea3d82   \n",
       "4    575  Dataset/validation/Apple_Grape_Cantaloupe_Wate...  730020d358ea3d82   \n",
       "\n",
       "     center_x    center_y      delta_x      delta_y  \n",
       "0  432.936960  369.383333   721.098752   499.294341  \n",
       "1  265.581056  306.625152   352.027648   309.140736  \n",
       "2  511.679488  512.026624  1023.358976  1023.946752  \n",
       "3  570.725888  332.094412   668.568576   483.758425  \n",
       "4  522.349568   74.924800   404.002816    88.454550  "
      ]
     },
     "execution_count": 6,
     "metadata": {},
     "output_type": "execute_result"
    }
   ],
   "source": [
    "df_val.head()"
   ]
  },
  {
   "cell_type": "code",
   "execution_count": 7,
   "metadata": {},
   "outputs": [
    {
     "data": {
      "text/plain": [
       "array(['Apple', 'Grape', 'Strawberry', 'Banana', 'Lemon', 'Pomegranate',\n",
       "       'Mango', 'Peach', 'Tomato', 'Pear', 'Watermelon', 'Pineapple',\n",
       "       'Cantaloupe'], dtype=object)"
      ]
     },
     "execution_count": 7,
     "metadata": {},
     "output_type": "execute_result"
    }
   ],
   "source": [
    "classes = df_train[\"label\"].unique()\n",
    "classes"
   ]
  },
  {
   "cell_type": "code",
   "execution_count": 11,
   "metadata": {},
   "outputs": [],
   "source": [
    "classes_idx = {clase:idx for idx,clase in enumerate(classes)}"
   ]
  },
  {
   "cell_type": "code",
   "execution_count": 13,
   "metadata": {},
   "outputs": [
    {
     "data": {
      "text/plain": [
       "13"
      ]
     },
     "execution_count": 13,
     "metadata": {},
     "output_type": "execute_result"
    }
   ],
   "source": [
    "cant_classes = len(classes)\n",
    "cant_classes"
   ]
  },
  {
   "cell_type": "code",
   "execution_count": 14,
   "metadata": {},
   "outputs": [],
   "source": [
    "import pickle\n",
    "with open(\"data.pkl\",\"wb\") as f:\n",
    "    pickle.dump((df_train, df_val, train_files, val_files, classes_idx, cant_classes, classes),f)"
   ]
  },
  {
   "cell_type": "code",
   "execution_count": null,
   "metadata": {},
   "outputs": [],
   "source": []
  }
 ],
 "metadata": {
  "kernelspec": {
   "display_name": "Python [conda env:CV]",
   "language": "python",
   "name": "conda-env-CV-py"
  },
  "language_info": {
   "codemirror_mode": {
    "name": "ipython",
    "version": 3
   },
   "file_extension": ".py",
   "mimetype": "text/x-python",
   "name": "python",
   "nbconvert_exporter": "python",
   "pygments_lexer": "ipython3",
   "version": "3.7.7"
  }
 },
 "nbformat": 4,
 "nbformat_minor": 2
}
